{
 "cells": [
  {
   "cell_type": "code",
   "execution_count": null,
   "metadata": {},
   "outputs": [],
   "source": [
    "\"\"\"Задание 1\n",
    "Печатные газеты использовали свой формат дат для каждого выпуска.\n",
    "Для каждой газеты из списка напишите формат указанной даты для перевода в объект datetime:\n",
    "The Moscow Times - Wednesday, October 2, 2002\n",
    "The Guardian - Friday, 11.10.13\n",
    "Daily News - Thursday, 18 August 1977\"\"\""
   ]
  },
  {
   "cell_type": "code",
   "execution_count": 66,
   "metadata": {},
   "outputs": [
    {
     "name": "stdout",
     "output_type": "stream",
     "text": [
      "2013-10-11 00:00:00 2002-10-02 00:00:00 1977-08-18 00:00:00\n"
     ]
    }
   ],
   "source": [
    "from datetime import datetime\n",
    "date_1 = datetime.strptime('Friday, 11.10.13', '%A, %d.%m.%y')\n",
    "date_2 = datetime.strptime('Wednesday, October 2, 2002', '%A, %B %d, %Y')\n",
    "date_3 = datetime.strptime('Thursday, 18 August, 1977', '%A, %d %B, %Y')\n",
    "\n",
    "print(date_1, date_2, date_3)\n"
   ]
  },
  {
   "cell_type": "code",
   "execution_count": null,
   "metadata": {},
   "outputs": [],
   "source": []
  },
  {
   "cell_type": "code",
   "execution_count": 99,
   "metadata": {},
   "outputs": [
    {
     "name": "stdout",
     "output_type": "stream",
     "text": [
      "True\n",
      "False\n",
      "False\n"
     ]
    }
   ],
   "source": [
    "\"\"\"Задание 2\n",
    "Дан поток дат в формате YYYY-MM-DD, в которых встречаются некорректные значения:\n",
    "stream = [‘2018-04-02’, ‘2018-02-29’, ‘2018-19-02’]\n",
    "Напишите функцию, которая проверяет эти даты на корректность. \n",
    "Т. е. для каждой даты возвращает True (дата корректна) или False (некорректная дата).\"\"\"\n",
    "\n",
    "stream = ['2018-04-02', '2018-02-29', '2018-19-02']\n",
    "def check(stream):\n",
    "    for date in stream:\n",
    "        try:\n",
    "            new_date = datetime.strptime(date, '%Y-%m-%d')\n",
    "            print('True')\n",
    "        except ValueError:\n",
    "            print('False')  \n",
    "        \n",
    "        \n",
    "check(stream)\n"
   ]
  },
  {
   "cell_type": "code",
   "execution_count": 134,
   "metadata": {},
   "outputs": [
    {
     "name": "stdout",
     "output_type": "stream",
     "text": [
      "Введите начальную дату в формате YYYY-MM-DD:2021-06-15\n",
      "Введите конечную дату в формате YYYY-MM-DD:2021-06-23\n"
     ]
    },
    {
     "data": {
      "text/plain": [
       "['2021-06-16',\n",
       " '2021-06-17',\n",
       " '2021-06-18',\n",
       " '2021-06-19',\n",
       " '2021-06-20',\n",
       " '2021-06-21',\n",
       " '2021-06-22',\n",
       " '2021-06-23']"
      ]
     },
     "execution_count": 134,
     "metadata": {},
     "output_type": "execute_result"
    }
   ],
   "source": [
    "\"\"\"Задание 3\n",
    "Напишите функцию date_range, которая возвращает список дат за период от start_date до end_date. \n",
    "Даты должны вводиться в формате YYYY-MM-DD. \n",
    "В случае неверного формата или при start_date > end_date должен возвращаться пустой список.\"\"\"\n",
    "\n",
    "from datetime import datetime\n",
    "from datetime import timedelta\n",
    "\n",
    "start_date = input('Введите начальную дату в формате YYYY-MM-DD:')\n",
    "end_date = input('Введите конечную дату в формате YYYY-MM-DD:')\n",
    "def date_range():\n",
    "    start_datetime = datetime.strptime(start_date, '%Y-%m-%d')\n",
    "    end_datetime = datetime.strptime(end_date, '%Y-%m-%d')\n",
    "    days = []\n",
    "    if start_datetime > end_datetime:\n",
    "            return days\n",
    "    if start_datetime < end_datetime:\n",
    "        reference_point = start_datetime\n",
    "    while reference_point < end_datetime:\n",
    "            reference_point += timedelta(days = 1)\n",
    "            print_point = datetime.strftime(reference_point,'%Y-%m-%d')\n",
    "            days.append(print_point)\n",
    "    return days\n",
    "\n",
    "              \n",
    "date_range()"
   ]
  },
  {
   "cell_type": "code",
   "execution_count": null,
   "metadata": {},
   "outputs": [],
   "source": []
  }
 ],
 "metadata": {
  "kernelspec": {
   "display_name": "Python 3",
   "language": "python",
   "name": "python3"
  },
  "language_info": {
   "codemirror_mode": {
    "name": "ipython",
    "version": 3
   },
   "file_extension": ".py",
   "mimetype": "text/x-python",
   "name": "python",
   "nbconvert_exporter": "python",
   "pygments_lexer": "ipython3",
   "version": "3.8.5"
  }
 },
 "nbformat": 4,
 "nbformat_minor": 4
}
